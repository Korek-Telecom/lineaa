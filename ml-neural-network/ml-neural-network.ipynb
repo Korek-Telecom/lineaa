{
 "cells": [
  {
   "cell_type": "code",
   "execution_count": 1,
   "metadata": {
    "collapsed": true
   },
   "outputs": [],
   "source": [
    "import matplotlib.pyplot as plt\n",
    "%matplotlib inline\n",
    "\n",
    "MARKERS = ['+', 'x', '.']\n",
    "COLORS = ['red', 'green', 'blue']\n",
    "\n",
    "def plot_points(xy, labels):\n",
    "    \n",
    "    for i, label in enumerate(set(labels)):\n",
    "        points = np.array([xy[j,:] for j in range(len(xy)) if labels[j] == label])\n",
    "        marker = MARKERS[i % len(MARKERS)]\n",
    "        color = COLORS[i % len(COLORS)]\n",
    "        plt.scatter(points[:,0], points[:,1], marker=marker, color=color)\n",
    "        \n",
    "def plot_boundary(X, pred):\n",
    "    \n",
    "    x_min, x_max = X[:,0].min() - .1, X[:,0].max() + .1\n",
    "    y_min, y_max = X[:,1].min() - .1, X[:,1].max() + .1\n",
    "    \n",
    "    xs, ys = np.meshgrid(\n",
    "        np.linspace(x_min, x_max, 200),\n",
    "        np.linspace(y_min, y_max, 200)\n",
    "    )\n",
    "\n",
    "    xys = np.column_stack([xs.ravel(), ys.ravel()])\n",
    "    zs = pred(xys).reshape(xs.shape)\n",
    "\n",
    "    plt.contour(xs, ys, zs, colors='black')"
   ]
  },
  {
   "cell_type": "code",
   "execution_count": 2,
   "metadata": {},
   "outputs": [
    {
     "name": "stdout",
     "output_type": "stream",
     "text": [
      "0 1.49182725463\n",
      "1000 0.0474112690861\n",
      "2000 0.0410127461436\n",
      "3000 0.0385364422563\n",
      "4000 0.0371035327679\n",
      "5000 0.0361389094345\n",
      "6000 0.0354337719509\n",
      "7000 0.0348900826255\n",
      "8000 0.0344554641098\n",
      "9000 0.0340994372941\n",
      "10000 0.0338028882849\n",
      "11000 0.0335529536045\n",
      "12000 0.033340421695\n",
      "13000 0.0331583620371\n",
      "14000 0.033001368061\n",
      "15000 0.0328651151458\n",
      "16000 0.032746086482\n",
      "17000 0.0326413932067\n",
      "18000 0.0325486514238\n",
      "19000 0.0324658963334\n",
      "0.995\n"
     ]
    }
   ],
   "source": [
    "import numpy as np\n",
    "import sklearn\n",
    "import sklearn.datasets\n",
    "from sklearn.preprocessing import label_binarize\n",
    "from sklearn.metrics import accuracy_score\n",
    "\n",
    "def sigmoid(z):\n",
    "    return 1.0 / (1.0 + np.exp(-z))\n",
    "\n",
    "def sigmoid_prime(z):\n",
    "    return sigmoid(z) * (1 - sigmoid(z))\n",
    "\n",
    "class Network(object):\n",
    "    \n",
    "    def __init__(self, shape, reg=0.01):\n",
    "        inputs = shape[:-1]\n",
    "        outputs = shape[1:]\n",
    "\n",
    "        self.weights = np.array([np.random.randn(i, o) for i, o in zip(inputs, outputs)])\n",
    "        self.biases = [np.random.randn(1, o) for o in outputs]\n",
    "        self.regularization = reg\n",
    "\n",
    "    def predict(self, X):\n",
    "        activations, _ = self.feed_forward(X)\n",
    "        return np.argmax(activations[-1], axis=1)\n",
    "\n",
    "    def cost(self, X, y):\n",
    "\n",
    "        activations, _ = self.feed_forward(X)\n",
    "        output = activations[-1]\n",
    "        err = (-y) * np.log(output) - (1 - y) * np.log(1 - output)\n",
    "        cost = np.sum(err) / len(X)\n",
    "\n",
    "        return cost\n",
    "\n",
    "    def feed_forward(self, examples):\n",
    "\n",
    "        activations = [examples]\n",
    "        combinations = [examples]\n",
    "\n",
    "        for weights, bias in zip(self.weights, self.biases):\n",
    "            combinations.append(np.dot(activations[-1], weights) + bias)\n",
    "            activations.append(sigmoid(combinations[-1]))\n",
    "\n",
    "        return activations, combinations\n",
    "\n",
    "    def backpropagate(self, examples, labels):\n",
    "\n",
    "        activations, combinations = self.feed_forward(examples)\n",
    "        delta = activations[-1] - labels\n",
    "        weight_grads = []\n",
    "        bias_grads = []\n",
    "\n",
    "        for i in reversed(range(len(self.weights))):\n",
    "            weight = self.weights[i]\n",
    "            \n",
    "            weight_grads.append(np.dot(activations[i].T, delta) + self.regularization * weight)\n",
    "            bias_grads.append(np.sum(delta, axis=0))\n",
    "            \n",
    "            delta = delta.dot(weight.T) * sigmoid_prime(combinations[i])\n",
    "\n",
    "        weight_grads.reverse()\n",
    "        bias_grads.reverse()\n",
    "\n",
    "        return weight_grads, bias_grads\n",
    "\n",
    "    def fit(self, examples, labels, iterations=20000, learning_rate=0.01, iter_fn=None):\n",
    "\n",
    "        for i in range(iterations):\n",
    "            weight_grads, bias_grads = network.backpropagate(examples, labels)\n",
    "\n",
    "            self.weights = [w - learning_rate * d for w, d in zip(self.weights, weight_grads)]\n",
    "            self.biases = [b - learning_rate * d for b, d in zip(self.biases, bias_grads)]\n",
    "\n",
    "            if iter_fn: iter_fn(i)\n",
    "         \n",
    "        return self\n",
    "\n",
    "X, y = sklearn.datasets.make_moons(200, noise=0.20)\n",
    "yy = label_binarize([i + 1 for i in y], [1, 2, 3])[:,0:2]\n",
    "\n",
    "def iter_fn(i):\n",
    "    if i % 1000 == 0:\n",
    "        print(i, network.cost(X, yy))\n",
    "\n",
    "shape = (X.shape[1], 10, 10, yy.shape[1])\n",
    "\n",
    "network = Network(shape, reg=0.01)\n",
    "network.fit(X, yy, iter_fn=iter_fn)\n",
    "predicted = network.predict(X)\n",
    "\n",
    "print(accuracy_score(y, predicted))"
   ]
  },
  {
   "cell_type": "code",
   "execution_count": 3,
   "metadata": {},
   "outputs": [
    {
     "data": {
      "image/png": "[encoded data removed]",
      "text/plain": [
       "<matplotlib.figure.Figure at 0x1094c7b70>"
      ]
     },
     "metadata": {},
     "output_type": "display_data"
    }
   ],
   "source": [
    "plot_points(X, y)\n",
    "plot_boundary(X, lambda x: network.predict(x))"
   ]
  },
  {
   "cell_type": "code",
   "execution_count": null,
   "metadata": {
    "collapsed": true
   },
   "outputs": [],
   "source": []
  },
  {
   "cell_type": "code",
   "execution_count": null,
   "metadata": {
    "collapsed": true
   },
   "outputs": [],
   "source": []
  }
 ],
 "metadata": {
  "anaconda-cloud": {},
  "kernelspec": {
   "display_name": "Python [default]",
   "language": "python",
   "name": "python3"
  },
  "language_info": {
   "codemirror_mode": {
    "name": "ipython",
    "version": 3
   },
   "file_extension": ".py",
   "mimetype": "text/x-python",
   "name": "python",
   "nbconvert_exporter": "python",
   "pygments_lexer": "ipython3",
   "version": "3.6.1"
  }
 },
 "nbformat": 4,
 "nbformat_minor": 2
}
